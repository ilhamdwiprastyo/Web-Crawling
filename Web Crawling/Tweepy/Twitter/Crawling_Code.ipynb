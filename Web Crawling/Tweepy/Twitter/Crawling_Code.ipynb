{
 "cells": [
  {
   "cell_type": "code",
   "execution_count": 2,
   "metadata": {},
   "outputs": [
    {
     "name": "stdout",
     "output_type": "stream",
     "text": [
      "Mulai mengunduh maksimum 50000 tweets\n",
      "Jumlah Tweets telah tersimpan: 3036Tidak ada lagi Tweet ditemukan dengan Query=\"['UU Cipta Kerja']\"\n",
      "\n",
      "Selesai! 3036 tweets tersimpan di \"UU Cipta Kerja_11.json\"\n"
     ]
    }
   ],
   "source": [
    "import tweepy,sys,jsonpickle\n",
    "\n",
    "consumer_key = 'rYEujAeoJXrBg1zcs8HnTJIEX' #di isi API key dari akun developer twitter\n",
    "consumer_secret = 'WLXEcSMvcFPZxtWkWd3R8WJMdkxSDVoLkVFZ27JCaLRuQhJn3u' #di isi API secret dari akun developer twitter\n",
    "\n",
    "qry=['UU Cipta Kerja']#query yang akan di cari\n",
    "maxTweets =  50000# Isi sembarang nilai sesuai kebutuhan anda\n",
    "tweetsPerQry = 100  # Jangan isi lebih dari 100, ndak boleh oleh Twitter\n",
    "fName='UU Cipta Kerja_11.json' # Nama File hasil Crawling\n",
    "\n",
    "auth = tweepy.AppAuthHandler(consumer_key,consumer_secret)\n",
    "api = tweepy.API(auth, wait_on_rate_limit=True,wait_on_rate_limit_notify=True)\n",
    "\n",
    "if (not api):\n",
    "    sys.exit('Autentikasi gagal, mohon cek \"Consumer Key\" & \"Consumer Secret\" Twitter anda')\n",
    "\n",
    "sinceId, max_id, tweetCount = None, -1, 0\n",
    "\n",
    "print(\"Mulai mengunduh maksimum {0} tweets\".format(maxTweets))\n",
    "with open(fName,'w') as f:\n",
    "    while tweetCount < maxTweets:\n",
    "        try:\n",
    "            if (max_id <= 0):\n",
    "                if (not sinceId):\n",
    "                    new_tweets=api.search(q=qry,count=tweetsPerQry)\n",
    "                else:\n",
    "                    new_tweets=api.search(q=qry,count=tweetsPerQry,since_id=sinceId)\n",
    "            else:\n",
    "                if (not sinceId):\n",
    "                    new_tweets=api.search(q=qry,count=tweetsPerQry,max_id=str(max_id - 1))\n",
    "                else:\n",
    "                    new_tweets=api.search(q=qry,count=tweetsPerQry,max_id=str(max_id - 1),since_id=sinceId)\n",
    "            if not new_tweets:\n",
    "                print('Tidak ada lagi Tweet ditemukan dengan Query=\"{0}\"'.format(qry));break\n",
    "            for tweet in new_tweets:\n",
    "                f.write(jsonpickle.encode(tweet._json,unpicklable=False)+'\\n')\n",
    "            tweetCount+=len(new_tweets)\n",
    "            sys.stdout.write(\"\\r\");sys.stdout.write(\"Jumlah Tweets telah tersimpan: %.0f\" %tweetCount);sys.stdout.flush()\n",
    "            max_id=new_tweets[-1].id\n",
    "        except tweepy.TweepError as e:\n",
    "            print(\"some error : \" + str(e));break # Aya error, keluar\n",
    "print ('\\nSelesai! {0} tweets tersimpan di \"{1}\"'.format(tweetCount,fName))"
   ]
  },
  {
   "cell_type": "code",
   "execution_count": null,
   "metadata": {},
   "outputs": [],
   "source": []
  }
 ],
 "metadata": {
  "kernelspec": {
   "display_name": "Python 3",
   "language": "python",
   "name": "python3"
  },
  "language_info": {
   "codemirror_mode": {
    "name": "ipython",
    "version": 3
   },
   "file_extension": ".py",
   "mimetype": "text/x-python",
   "name": "python",
   "nbconvert_exporter": "python",
   "pygments_lexer": "ipython3",
   "version": "3.9.1"
  }
 },
 "nbformat": 4,
 "nbformat_minor": 4
}
